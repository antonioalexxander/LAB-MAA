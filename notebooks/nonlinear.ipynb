{
 "cells": [
  {
   "cell_type": "markdown",
   "metadata": {},
   "source": [
    "<font size=\"5\">Section 2: non linear models</font>"
   ]
  },
  {
   "cell_type": "markdown",
   "metadata": {},
   "source": [
    "# Housekeeping\n",
    "\n",
    "## import libraries\n",
    "\n",
    "Pandas for data management, statsmodels, numpy and sklearn for analysis, matplotlib for visualization. Other libraries as needed for specific tasks (e.g. semopy for SEM). Remember to use the bash terminal or the enviroment manager to add libraries.\n",
    "\n",
    "## read data\n",
    "\n",
    "Read data files using pandas as noted below. We can clean and organize data in many ways (for example, using the **dropna** command over a dataset).\n",
    "\n",
    "## describe data\n",
    "\n",
    "There are many was to analyze data and do descriptive statistics. A good command to start is ***head***, to describe a section of the data.\n"
   ]
  },
  {
   "cell_type": "code",
   "execution_count": 1,
   "metadata": {},
   "outputs": [],
   "source": [
    "import numpy as np\n",
    "import pandas as pd\n",
    "import matplotlib.pyplot as plt\n",
    "import statsmodels.api as sm\n",
    "import statsmodels.formula.api as smf\n",
    "import sklearn\n",
    "import scipy \n",
    "from scipy.stats import nbinom\n",
    "import seaborn as sns\n",
    "from statsmodels.iolib.summary2 import summary_col\n",
    "\n",
    "import warnings\n",
    "warnings.filterwarnings(\"ignore\")\n",
    "\n",
    "%matplotlib inline"
   ]
  },
  {
   "cell_type": "code",
   "execution_count": 2,
   "metadata": {},
   "outputs": [
    {
     "data": {
      "text/plain": [
       "ID_aux             object\n",
       "CODIGO_UNIV         int64\n",
       "CODIGO              int64\n",
       "VIA                 int64\n",
       "PREFERENCIA         int64\n",
       "PTJE_POND         float64\n",
       "TIPO_MATRICULA      int64\n",
       "TIPO               object\n",
       "PRA                 int64\n",
       "dtype: object"
      ]
     },
     "execution_count": 2,
     "metadata": {},
     "output_type": "execute_result"
    }
   ],
   "source": [
    "# higher ed data\n",
    "demre = pd.read_csv('../data/Adm2024.csv', delimiter=\";\", decimal=',')\n",
    "demre.dropna(inplace=True)\n",
    "VIAC = [1,2,3,4]\n",
    "TIPO = [\"REGULAR\", \"BEA\", \"PACE\", \"+MC\"]\n",
    "demre['TIPO'] = demre['VIA'].replace(VIAC, TIPO)\n",
    "demre[\"PRA\"] = (demre[\"PREFERENCIA\"]== 1).astype(int)\n",
    "demre.dtypes"
   ]
  },
  {
   "cell_type": "code",
   "execution_count": 22,
   "metadata": {},
   "outputs": [
    {
     "data": {
      "application/vnd.microsoft.datawrangler.viewer.v0+json": {
       "columns": [
        {
         "name": "index",
         "rawType": "object",
         "type": "string"
        },
        {
         "name": "CODIGO_UNIV",
         "rawType": "float64",
         "type": "float"
        },
        {
         "name": "CODIGO",
         "rawType": "float64",
         "type": "float"
        },
        {
         "name": "VIA",
         "rawType": "float64",
         "type": "float"
        },
        {
         "name": "PREFERENCIA",
         "rawType": "float64",
         "type": "float"
        },
        {
         "name": "PTJE_POND",
         "rawType": "float64",
         "type": "float"
        },
        {
         "name": "TIPO_MATRICULA",
         "rawType": "float64",
         "type": "float"
        },
        {
         "name": "PRA",
         "rawType": "float64",
         "type": "float"
        }
       ],
       "conversionMethod": "pd.DataFrame",
       "ref": "8887fe40-4080-4c30-bd23-9c9584d5518d",
       "rows": [
        [
         "count",
         "115353.0",
         "115353.0",
         "115353.0",
         "115353.0",
         "115353.0",
         "115353.0",
         "115353.0"
        ],
        [
         "mean",
         "33.08296273178851",
         "33207.054580288335",
         "1.0577704957825111",
         "2.296169150347195",
         "711.9468506410756",
         "1.200584293429733",
         "0.5333541390340953"
        ],
        [
         "std",
         "15.086797227191324",
         "15139.994205926989",
         "0.3540681486691735",
         "2.3282417090624796",
         "105.28442334344372",
         "1.162438352063217",
         "0.4988884234417531"
        ],
        [
         "min",
         "11.0",
         "11001.0",
         "1.0",
         "1.0",
         "340.7",
         "1.0",
         "0.0"
        ],
        [
         "25%",
         "17.0",
         "17077.0",
         "1.0",
         "1.0",
         "635.85",
         "1.0",
         "0.0"
        ],
        [
         "50%",
         "36.0",
         "36031.0",
         "1.0",
         "1.0",
         "705.5",
         "1.0",
         "1.0"
        ],
        [
         "75%",
         "47.0",
         "47006.0",
         "1.0",
         "3.0",
         "783.4",
         "1.0",
         "1.0"
        ],
        [
         "max",
         "58.0",
         "58202.0",
         "4.0",
         "20.0",
         "1095.0",
         "11.0",
         "1.0"
        ]
       ],
       "shape": {
        "columns": 7,
        "rows": 8
       }
      },
      "text/html": [
       "<div>\n",
       "<style scoped>\n",
       "    .dataframe tbody tr th:only-of-type {\n",
       "        vertical-align: middle;\n",
       "    }\n",
       "\n",
       "    .dataframe tbody tr th {\n",
       "        vertical-align: top;\n",
       "    }\n",
       "\n",
       "    .dataframe thead th {\n",
       "        text-align: right;\n",
       "    }\n",
       "</style>\n",
       "<table border=\"1\" class=\"dataframe\">\n",
       "  <thead>\n",
       "    <tr style=\"text-align: right;\">\n",
       "      <th></th>\n",
       "      <th>CODIGO_UNIV</th>\n",
       "      <th>CODIGO</th>\n",
       "      <th>VIA</th>\n",
       "      <th>PREFERENCIA</th>\n",
       "      <th>PTJE_POND</th>\n",
       "      <th>TIPO_MATRICULA</th>\n",
       "      <th>PRA</th>\n",
       "    </tr>\n",
       "  </thead>\n",
       "  <tbody>\n",
       "    <tr>\n",
       "      <th>count</th>\n",
       "      <td>115353.000000</td>\n",
       "      <td>115353.000000</td>\n",
       "      <td>115353.000000</td>\n",
       "      <td>115353.000000</td>\n",
       "      <td>115353.000000</td>\n",
       "      <td>115353.000000</td>\n",
       "      <td>115353.000000</td>\n",
       "    </tr>\n",
       "    <tr>\n",
       "      <th>mean</th>\n",
       "      <td>33.082963</td>\n",
       "      <td>33207.054580</td>\n",
       "      <td>1.057770</td>\n",
       "      <td>2.296169</td>\n",
       "      <td>711.946851</td>\n",
       "      <td>1.200584</td>\n",
       "      <td>0.533354</td>\n",
       "    </tr>\n",
       "    <tr>\n",
       "      <th>std</th>\n",
       "      <td>15.086797</td>\n",
       "      <td>15139.994206</td>\n",
       "      <td>0.354068</td>\n",
       "      <td>2.328242</td>\n",
       "      <td>105.284423</td>\n",
       "      <td>1.162438</td>\n",
       "      <td>0.498888</td>\n",
       "    </tr>\n",
       "    <tr>\n",
       "      <th>min</th>\n",
       "      <td>11.000000</td>\n",
       "      <td>11001.000000</td>\n",
       "      <td>1.000000</td>\n",
       "      <td>1.000000</td>\n",
       "      <td>340.700000</td>\n",
       "      <td>1.000000</td>\n",
       "      <td>0.000000</td>\n",
       "    </tr>\n",
       "    <tr>\n",
       "      <th>25%</th>\n",
       "      <td>17.000000</td>\n",
       "      <td>17077.000000</td>\n",
       "      <td>1.000000</td>\n",
       "      <td>1.000000</td>\n",
       "      <td>635.850000</td>\n",
       "      <td>1.000000</td>\n",
       "      <td>0.000000</td>\n",
       "    </tr>\n",
       "    <tr>\n",
       "      <th>50%</th>\n",
       "      <td>36.000000</td>\n",
       "      <td>36031.000000</td>\n",
       "      <td>1.000000</td>\n",
       "      <td>1.000000</td>\n",
       "      <td>705.500000</td>\n",
       "      <td>1.000000</td>\n",
       "      <td>1.000000</td>\n",
       "    </tr>\n",
       "    <tr>\n",
       "      <th>75%</th>\n",
       "      <td>47.000000</td>\n",
       "      <td>47006.000000</td>\n",
       "      <td>1.000000</td>\n",
       "      <td>3.000000</td>\n",
       "      <td>783.400000</td>\n",
       "      <td>1.000000</td>\n",
       "      <td>1.000000</td>\n",
       "    </tr>\n",
       "    <tr>\n",
       "      <th>max</th>\n",
       "      <td>58.000000</td>\n",
       "      <td>58202.000000</td>\n",
       "      <td>4.000000</td>\n",
       "      <td>20.000000</td>\n",
       "      <td>1095.000000</td>\n",
       "      <td>11.000000</td>\n",
       "      <td>1.000000</td>\n",
       "    </tr>\n",
       "  </tbody>\n",
       "</table>\n",
       "</div>"
      ],
      "text/plain": [
       "         CODIGO_UNIV         CODIGO            VIA    PREFERENCIA  \\\n",
       "count  115353.000000  115353.000000  115353.000000  115353.000000   \n",
       "mean       33.082963   33207.054580       1.057770       2.296169   \n",
       "std        15.086797   15139.994206       0.354068       2.328242   \n",
       "min        11.000000   11001.000000       1.000000       1.000000   \n",
       "25%        17.000000   17077.000000       1.000000       1.000000   \n",
       "50%        36.000000   36031.000000       1.000000       1.000000   \n",
       "75%        47.000000   47006.000000       1.000000       3.000000   \n",
       "max        58.000000   58202.000000       4.000000      20.000000   \n",
       "\n",
       "           PTJE_POND  TIPO_MATRICULA            PRA  \n",
       "count  115353.000000   115353.000000  115353.000000  \n",
       "mean      711.946851        1.200584       0.533354  \n",
       "std       105.284423        1.162438       0.498888  \n",
       "min       340.700000        1.000000       0.000000  \n",
       "25%       635.850000        1.000000       0.000000  \n",
       "50%       705.500000        1.000000       1.000000  \n",
       "75%       783.400000        1.000000       1.000000  \n",
       "max      1095.000000       11.000000       1.000000  "
      ]
     },
     "execution_count": 22,
     "metadata": {},
     "output_type": "execute_result"
    }
   ],
   "source": [
    "demre.reset_index(drop=True, inplace=True)\n",
    "demre= demre[demre['PTJE_POND'] != 0]\n",
    "demre.describe()"
   ]
  },
  {
   "cell_type": "code",
   "execution_count": 23,
   "metadata": {},
   "outputs": [
    {
     "data": {
      "text/plain": [
       "<Axes: xlabel='PTJE_POND', ylabel='Density'>"
      ]
     },
     "execution_count": 23,
     "metadata": {},
     "output_type": "execute_result"
    },
    {
     "data": {
      "image/png": "[encoded data removed]",
      "text/plain": [
       "<Figure size 640x480 with 1 Axes>"
      ]
     },
     "metadata": {},
     "output_type": "display_data"
    }
   ],
   "source": [
    "sns.kdeplot(data=demre, x=\"PTJE_POND\", hue=\"PRA\")"
   ]
  },
  {
   "cell_type": "markdown",
   "metadata": {},
   "source": [
    "### OLS\n",
    "\n",
    "We can use statsmodels to estimate a simple OLS regression (linear probability model). "
   ]
  },
  {
   "cell_type": "code",
   "execution_count": 24,
   "metadata": {},
   "outputs": [
    {
     "name": "stdout",
     "output_type": "stream",
     "text": [
      "                            OLS Regression Results                            \n",
      "==============================================================================\n",
      "Dep. Variable:                    PRA   R-squared:                       0.019\n",
      "Model:                            OLS   Adj. R-squared:                  0.019\n",
      "Method:                 Least Squares   F-statistic:                     312.1\n",
      "Date:                Fri, 04 Apr 2025   Prob (F-statistic):               0.00\n",
      "Time:                        13:48:21   Log-Likelihood:                -82383.\n",
      "No. Observations:              115353   AIC:                         1.648e+05\n",
      "Df Residuals:                  115345   BIC:                         1.649e+05\n",
      "Df Model:                           7                                         \n",
      "Covariance Type:            nonrobust                                         \n",
      "=============================================================================================================================\n",
      "                                                                coef    std err          t      P>|t|      [0.025      0.975]\n",
      "-----------------------------------------------------------------------------------------------------------------------------\n",
      "Intercept                                                     0.0607      0.010      5.823      0.000       0.040       0.081\n",
      "C(TIPO, Treatment(reference='REGULAR'))[T.+MC]                0.0639      0.114      0.561      0.575      -0.159       0.287\n",
      "C(TIPO, Treatment(reference='REGULAR'))[T.BEA]                0.4862      0.152      3.189      0.001       0.187       0.785\n",
      "C(TIPO, Treatment(reference='REGULAR'))[T.PACE]               0.3113      0.142      2.193      0.028       0.033       0.590\n",
      "PTJE_POND                                                     0.0007   1.46e-05     45.652      0.000       0.001       0.001\n",
      "PTJE_POND:C(TIPO, Treatment(reference='REGULAR'))[T.+MC]     -0.0001      0.000     -0.721      0.471      -0.000       0.000\n",
      "PTJE_POND:C(TIPO, Treatment(reference='REGULAR'))[T.BEA]     -0.0007      0.000     -3.312      0.001      -0.001      -0.000\n",
      "PTJE_POND:C(TIPO, Treatment(reference='REGULAR'))[T.PACE]    -0.0004      0.000     -2.608      0.009      -0.001   -9.56e-05\n",
      "==============================================================================\n",
      "Omnibus:                   415919.828   Durbin-Watson:                   1.981\n",
      "Prob(Omnibus):                  0.000   Jarque-Bera (JB):            17834.320\n",
      "Skew:                          -0.131   Prob(JB):                         0.00\n",
      "Kurtosis:                       1.092   Cond. No.                     7.54e+04\n",
      "==============================================================================\n",
      "\n",
      "Notes:\n",
      "[1] Standard Errors assume that the covariance matrix of the errors is correctly specified.\n",
      "[2] The condition number is large, 7.54e+04. This might indicate that there are\n",
      "strong multicollinearity or other numerical problems.\n"
     ]
    }
   ],
   "source": [
    "model = smf.ols(\"PRA ~ PTJE_POND*C(TIPO, Treatment(reference='REGULAR'))\", data=demre).fit()\n",
    "print(model.summary())"
   ]
  },
  {
   "cell_type": "markdown",
   "metadata": {},
   "source": [
    "### Probit\n",
    "\n"
   ]
  },
  {
   "cell_type": "code",
   "execution_count": 25,
   "metadata": {},
   "outputs": [
    {
     "name": "stdout",
     "output_type": "stream",
     "text": [
      "Optimization terminated successfully.\n",
      "         Current function value: 0.681557\n",
      "         Iterations 4\n",
      "                          Probit Regression Results                           \n",
      "==============================================================================\n",
      "Dep. Variable:                    PRA   No. Observations:               115353\n",
      "Model:                         Probit   Df Residuals:                   115345\n",
      "Method:                           MLE   Df Model:                            7\n",
      "Date:                Fri, 04 Apr 2025   Pseudo R-squ.:                 0.01355\n",
      "Time:                        13:48:21   Log-Likelihood:                -78620.\n",
      "converged:                       True   LL-Null:                       -79700.\n",
      "Covariance Type:            nonrobust   LLR p-value:                     0.000\n",
      "=============================================================================================================================\n",
      "                                                                coef    std err          z      P>|z|      [0.025      0.975]\n",
      "-----------------------------------------------------------------------------------------------------------------------------\n",
      "Intercept                                                    -1.1180      0.027    -41.710      0.000      -1.170      -1.065\n",
      "C(TIPO, Treatment(reference='REGULAR'))[T.+MC]                0.1691      0.291      0.581      0.562      -0.402       0.740\n",
      "C(TIPO, Treatment(reference='REGULAR'))[T.BEA]                1.2359      0.387      3.192      0.001       0.477       1.995\n",
      "C(TIPO, Treatment(reference='REGULAR'))[T.PACE]               0.7600      0.368      2.065      0.039       0.039       1.482\n",
      "PTJE_POND                                                     0.0017   3.75e-05     45.154      0.000       0.002       0.002\n",
      "PTJE_POND:C(TIPO, Treatment(reference='REGULAR'))[T.+MC]     -0.0003      0.000     -0.739      0.460      -0.001       0.001\n",
      "PTJE_POND:C(TIPO, Treatment(reference='REGULAR'))[T.BEA]     -0.0017      0.001     -3.318      0.001      -0.003      -0.001\n",
      "PTJE_POND:C(TIPO, Treatment(reference='REGULAR'))[T.PACE]    -0.0009      0.000     -2.459      0.014      -0.002      -0.000\n",
      "=============================================================================================================================\n",
      "       Probit Marginal Effects       \n",
      "=====================================\n",
      "Dep. Variable:                    PRA\n",
      "Method:                          dydx\n",
      "At:                           overall\n",
      "=============================================================================================================================\n",
      "                                                               dy/dx    std err          z      P>|z|      [0.025      0.975]\n",
      "-----------------------------------------------------------------------------------------------------------------------------\n",
      "C(TIPO, Treatment(reference='REGULAR'))[T.+MC]                0.0663      0.114      0.581      0.562      -0.157       0.290\n",
      "C(TIPO, Treatment(reference='REGULAR'))[T.BEA]                0.4841      0.152      3.192      0.001       0.187       0.781\n",
      "C(TIPO, Treatment(reference='REGULAR'))[T.PACE]               0.2977      0.144      2.065      0.039       0.015       0.580\n",
      "PTJE_POND                                                     0.0007   1.43e-05     46.441      0.000       0.001       0.001\n",
      "PTJE_POND:C(TIPO, Treatment(reference='REGULAR'))[T.+MC]     -0.0001      0.000     -0.739      0.460      -0.000       0.000\n",
      "PTJE_POND:C(TIPO, Treatment(reference='REGULAR'))[T.BEA]     -0.0007      0.000     -3.319      0.001      -0.001      -0.000\n",
      "PTJE_POND:C(TIPO, Treatment(reference='REGULAR'))[T.PACE]    -0.0004      0.000     -2.460      0.014      -0.001    -7.5e-05\n",
      "=============================================================================================================================\n"
     ]
    }
   ],
   "source": [
    "probit_model = smf.probit(\"PRA ~ PTJE_POND*C(TIPO, Treatment(reference='REGULAR'))\", data=demre).fit()\n",
    "print(probit_model.summary())\n",
    "\n",
    "mfx = probit_model.get_margeff()\n",
    "print(mfx.summary())"
   ]
  },
  {
   "cell_type": "markdown",
   "metadata": {},
   "source": [
    "### Logit"
   ]
  },
  {
   "cell_type": "code",
   "execution_count": 26,
   "metadata": {},
   "outputs": [
    {
     "name": "stdout",
     "output_type": "stream",
     "text": [
      "Optimization terminated successfully.\n",
      "         Current function value: 0.681547\n",
      "         Iterations 4\n",
      "                           Logit Regression Results                           \n",
      "==============================================================================\n",
      "Dep. Variable:                    PRA   No. Observations:               115353\n",
      "Model:                          Logit   Df Residuals:                   115345\n",
      "Method:                           MLE   Df Model:                            7\n",
      "Date:                Fri, 04 Apr 2025   Pseudo R-squ.:                 0.01357\n",
      "Time:                        13:48:22   Log-Likelihood:                -78618.\n",
      "converged:                       True   LL-Null:                       -79700.\n",
      "Covariance Type:            nonrobust   LLR p-value:                     0.000\n",
      "=============================================================================================================================\n",
      "                                                                coef    std err          z      P>|z|      [0.025      0.975]\n",
      "-----------------------------------------------------------------------------------------------------------------------------\n",
      "Intercept                                                    -1.7940      0.043    -41.510      0.000      -1.879      -1.709\n",
      "C(TIPO, Treatment(reference='REGULAR'))[T.+MC]                0.2786      0.467      0.596      0.551      -0.637       1.194\n",
      "C(TIPO, Treatment(reference='REGULAR'))[T.BEA]                1.9823      0.619      3.205      0.001       0.770       3.195\n",
      "C(TIPO, Treatment(reference='REGULAR'))[T.PACE]               1.2104      0.596      2.031      0.042       0.042       2.378\n",
      "PTJE_POND                                                     0.0027   6.06e-05     44.870      0.000       0.003       0.003\n",
      "PTJE_POND:C(TIPO, Treatment(reference='REGULAR'))[T.+MC]     -0.0005      0.001     -0.755      0.450      -0.002       0.001\n",
      "PTJE_POND:C(TIPO, Treatment(reference='REGULAR'))[T.BEA]     -0.0028      0.001     -3.334      0.001      -0.004      -0.001\n",
      "PTJE_POND:C(TIPO, Treatment(reference='REGULAR'))[T.PACE]    -0.0015      0.001     -2.420      0.016      -0.003      -0.000\n",
      "=============================================================================================================================\n",
      "        Logit Marginal Effects       \n",
      "=====================================\n",
      "Dep. Variable:                    PRA\n",
      "Method:                          dydx\n",
      "At:                           overall\n",
      "=============================================================================================================================\n",
      "                                                               dy/dx    std err          z      P>|z|      [0.025      0.975]\n",
      "-----------------------------------------------------------------------------------------------------------------------------\n",
      "C(TIPO, Treatment(reference='REGULAR'))[T.+MC]                0.0680      0.114      0.596      0.551      -0.156       0.292\n",
      "C(TIPO, Treatment(reference='REGULAR'))[T.BEA]                0.4842      0.151      3.205      0.001       0.188       0.780\n",
      "C(TIPO, Treatment(reference='REGULAR'))[T.PACE]               0.2957      0.146      2.031      0.042       0.010       0.581\n",
      "PTJE_POND                                                     0.0007   1.43e-05     46.489      0.000       0.001       0.001\n",
      "PTJE_POND:C(TIPO, Treatment(reference='REGULAR'))[T.+MC]     -0.0001      0.000     -0.755      0.450      -0.000       0.000\n",
      "PTJE_POND:C(TIPO, Treatment(reference='REGULAR'))[T.BEA]     -0.0007      0.000     -3.334      0.001      -0.001      -0.000\n",
      "PTJE_POND:C(TIPO, Treatment(reference='REGULAR'))[T.PACE]    -0.0004      0.000     -2.420      0.016      -0.001   -6.98e-05\n",
      "=============================================================================================================================\n"
     ]
    }
   ],
   "source": [
    "logit_model = smf.logit(\"PRA ~ PTJE_POND*C(TIPO, Treatment(reference='REGULAR'))\", data=demre).fit()\n",
    "print(logit_model.summary())\n",
    "\n",
    "mfx = logit_model.get_margeff()\n",
    "print(mfx.summary())"
   ]
  },
  {
   "cell_type": "markdown",
   "metadata": {},
   "source": [
    "### Poisson"
   ]
  },
  {
   "cell_type": "code",
   "execution_count": 27,
   "metadata": {},
   "outputs": [
    {
     "data": {
      "text/plain": [
       "(array([84375., 18629.,  6147.,  2695.,  1394.,   869.,   531.,   341.,\n",
       "          230.,   142.]),\n",
       " array([ 1. ,  2.9,  4.8,  6.7,  8.6, 10.5, 12.4, 14.3, 16.2, 18.1, 20. ]),\n",
       " <BarContainer object of 10 artists>)"
      ]
     },
     "execution_count": 27,
     "metadata": {},
     "output_type": "execute_result"
    },
    {
     "data": {
      "image/png": "[encoded data removed]",
      "text/plain": [
       "<Figure size 640x480 with 1 Axes>"
      ]
     },
     "metadata": {},
     "output_type": "display_data"
    }
   ],
   "source": [
    "plt.hist(demre.PREFERENCIA)"
   ]
  },
  {
   "cell_type": "code",
   "execution_count": 28,
   "metadata": {},
   "outputs": [
    {
     "name": "stdout",
     "output_type": "stream",
     "text": [
      "Optimization terminated successfully.\n",
      "         Current function value: 2.007541\n",
      "         Iterations 8\n",
      "                          Poisson Regression Results                          \n",
      "==============================================================================\n",
      "Dep. Variable:            PREFERENCIA   No. Observations:               115353\n",
      "Model:                        Poisson   Df Residuals:                   115345\n",
      "Method:                           MLE   Df Model:                            7\n",
      "Date:                Fri, 04 Apr 2025   Pseudo R-squ.:                0.008066\n",
      "Time:                        13:48:23   Log-Likelihood:            -2.3158e+05\n",
      "converged:                       True   LL-Null:                   -2.3346e+05\n",
      "Covariance Type:            nonrobust   LLR p-value:                     0.000\n",
      "=============================================================================================================================\n",
      "                                                                coef    std err          z      P>|z|      [0.025      0.975]\n",
      "-----------------------------------------------------------------------------------------------------------------------------\n",
      "Intercept                                                     1.6584      0.014    120.126      0.000       1.631       1.685\n",
      "C(TIPO, Treatment(reference='REGULAR'))[T.+MC]               -0.0161      0.151     -0.107      0.915      -0.311       0.279\n",
      "C(TIPO, Treatment(reference='REGULAR'))[T.BEA]               -0.6286      0.207     -3.031      0.002      -1.035      -0.222\n",
      "C(TIPO, Treatment(reference='REGULAR'))[T.PACE]               0.0597      0.201      0.297      0.767      -0.335       0.454\n",
      "PTJE_POND                                                    -0.0012   1.96e-05    -59.831      0.000      -0.001      -0.001\n",
      "PTJE_POND:C(TIPO, Treatment(reference='REGULAR'))[T.+MC]  -7.534e-05      0.000     -0.326      0.744      -0.001       0.000\n",
      "PTJE_POND:C(TIPO, Treatment(reference='REGULAR'))[T.BEA]      0.0009      0.000      3.037      0.002       0.000       0.001\n",
      "PTJE_POND:C(TIPO, Treatment(reference='REGULAR'))[T.PACE]  6.448e-05      0.000      0.306      0.760      -0.000       0.000\n",
      "=============================================================================================================================\n"
     ]
    }
   ],
   "source": [
    "poisson = smf.poisson(\"PREFERENCIA ~ PTJE_POND*C(TIPO, Treatment(reference='REGULAR'))\", data=demre).fit()\n",
    "print(poisson.summary())"
   ]
  },
  {
   "cell_type": "code",
   "execution_count": 29,
   "metadata": {},
   "outputs": [
    {
     "name": "stdout",
     "output_type": "stream",
     "text": [
      "0         2.282521\n",
      "1         2.273032\n",
      "2         1.878068\n",
      "3         2.468069\n",
      "4         2.481428\n",
      "            ...   \n",
      "118354    2.065103\n",
      "118355    2.543190\n",
      "118356    2.189514\n",
      "118357    2.359874\n",
      "118358    2.683776\n",
      "Length: 115353, dtype: float64\n"
     ]
    }
   ],
   "source": [
    "predictions = poisson.predict(demre)\n",
    "print(predictions)"
   ]
  },
  {
   "cell_type": "markdown",
   "metadata": {},
   "source": [
    "### Negative Binomial"
   ]
  },
  {
   "cell_type": "code",
   "execution_count": 30,
   "metadata": {},
   "outputs": [
    {
     "name": "stdout",
     "output_type": "stream",
     "text": [
      "Warning: Maximum number of iterations has been exceeded.\n",
      "         Current function value: 1.887567\n",
      "         Iterations: 35\n",
      "         Function evaluations: 48\n",
      "         Gradient evaluations: 48\n",
      "                     NegativeBinomial Regression Results                      \n",
      "==============================================================================\n",
      "Dep. Variable:            PREFERENCIA   No. Observations:               115353\n",
      "Model:               NegativeBinomial   Df Residuals:                   115345\n",
      "Method:                           MLE   Df Model:                            7\n",
      "Date:                Fri, 04 Apr 2025   Pseudo R-squ.:                0.005100\n",
      "Time:                        13:48:27   Log-Likelihood:            -2.1774e+05\n",
      "converged:                      False   LL-Null:                   -2.1885e+05\n",
      "Covariance Type:            nonrobust   LLR p-value:                     0.000\n",
      "=============================================================================================================================\n",
      "                                                                coef    std err          z      P>|z|      [0.025      0.975]\n",
      "-----------------------------------------------------------------------------------------------------------------------------\n",
      "Intercept                                                     1.6322      0.017     93.685      0.000       1.598       1.666\n",
      "C(TIPO, Treatment(reference='REGULAR'))[T.+MC]                0.0223      0.194      0.115      0.909      -0.358       0.402\n",
      "C(TIPO, Treatment(reference='REGULAR'))[T.BEA]               -0.6145      0.260     -2.360      0.018      -1.125      -0.104\n",
      "C(TIPO, Treatment(reference='REGULAR'))[T.PACE]               0.0757      0.251      0.301      0.763      -0.416       0.567\n",
      "PTJE_POND                                                    -0.0011   2.46e-05    -46.218      0.000      -0.001      -0.001\n",
      "PTJE_POND:C(TIPO, Treatment(reference='REGULAR'))[T.+MC]     -0.0001      0.000     -0.444      0.657      -0.001       0.000\n",
      "PTJE_POND:C(TIPO, Treatment(reference='REGULAR'))[T.BEA]      0.0008      0.000      2.362      0.018       0.000       0.002\n",
      "PTJE_POND:C(TIPO, Treatment(reference='REGULAR'))[T.PACE]  3.787e-05      0.000      0.144      0.885      -0.000       0.001\n",
      "alpha                                                         0.2722      0.003    107.984      0.000       0.267       0.277\n",
      "=============================================================================================================================\n"
     ]
    }
   ],
   "source": [
    "nbin = smf.negativebinomial(\"PREFERENCIA ~ PTJE_POND*C(TIPO, Treatment(reference='REGULAR'))\", data=demre).fit()\n",
    "print(nbin.summary())"
   ]
  },
  {
   "cell_type": "code",
   "execution_count": 31,
   "metadata": {},
   "outputs": [
    {
     "name": "stdout",
     "output_type": "stream",
     "text": [
      "0         2.283147\n",
      "1         2.273955\n",
      "2         1.890228\n",
      "3         2.462640\n",
      "4         2.475546\n",
      "            ...   \n",
      "118354    2.072231\n",
      "118355    2.535186\n",
      "118356    2.193003\n",
      "118357    2.358029\n",
      "118358    2.670772\n",
      "Name: predictions, Length: 115353, dtype: float64\n"
     ]
    }
   ],
   "source": [
    "demre['predictions'] = nbin.predict(demre).astype(float)\n",
    "print(demre.predictions)"
   ]
  },
  {
   "cell_type": "code",
   "execution_count": 32,
   "metadata": {},
   "outputs": [
    {
     "data": {
      "text/plain": [
       "5.340407628269691"
      ]
     },
     "execution_count": 32,
     "metadata": {},
     "output_type": "execute_result"
    }
   ],
   "source": [
    "demre['sres']=(demre['PREFERENCIA']-demre['predictions'])**2\n",
    "demre['sres'].sum()/115345"
   ]
  },
  {
   "cell_type": "markdown",
   "metadata": {},
   "source": [
    "### Test overdispersion\n",
    "\n",
    "A simple test for overdispersion can be determined with the results of the Poisson model, using the ratio of Pearson chi2 / Df Residuals. A value larger than 1 indicates overdispersion.\n",
    "\n",
    "The Negative Binomial model estimated above is using a value of $\\theta$ (or $\\alpha=1/\\theta$) equal to 1. In order to determine the appropiate value of $\\alpha$, you can estimate a simple regression using the output of the Poisson model:\n",
    "\n",
    "1. Construct the following variable aux=$[(y-\\lambda)^2-\\lambda]/\\lambda$\n",
    "2. Regress the variable aux with $\\lambda$ as the only explanatory variable (no constant)\n",
    "3. The estimated value is an appropiate guess for $\\ln \\alpha$\n",
    "\n",
    "In the model of the previous section, just use the options on sm.families.NegativeBinomial, in order to manually enter the value of alpha. See example below."
   ]
  },
  {
   "cell_type": "code",
   "execution_count": 33,
   "metadata": {},
   "outputs": [
    {
     "name": "stdout",
     "output_type": "stream",
     "text": [
      "                                 OLS Regression Results                                \n",
      "=======================================================================================\n",
      "Dep. Variable:                      y   R-squared (uncentered):                   0.019\n",
      "Model:                            OLS   Adj. R-squared (uncentered):              0.019\n",
      "Method:                 Least Squares   F-statistic:                              2229.\n",
      "Date:                Fri, 04 Apr 2025   Prob (F-statistic):                        0.00\n",
      "Time:                        13:48:27   Log-Likelihood:                     -4.2299e+05\n",
      "No. Observations:              115353   AIC:                                  8.460e+05\n",
      "Df Residuals:                  115352   BIC:                                  8.460e+05\n",
      "Df Model:                           1                                                  \n",
      "Covariance Type:            nonrobust                                                  \n",
      "==============================================================================\n",
      "                 coef    std err          t      P>|t|      [0.025      0.975]\n",
      "------------------------------------------------------------------------------\n",
      "x1             0.5691      0.012     47.210      0.000       0.546       0.593\n",
      "==============================================================================\n",
      "Omnibus:                   166403.294   Durbin-Watson:                   1.976\n",
      "Prob(Omnibus):                  0.000   Jarque-Bera (JB):         47378108.440\n",
      "Skew:                           8.874   Prob(JB):                         0.00\n",
      "Kurtosis:                     100.685   Cond. No.                         1.00\n",
      "==============================================================================\n",
      "\n",
      "Notes:\n",
      "[1] R² is computed without centering (uncentered) since the model does not contain a constant.\n",
      "[2] Standard Errors assume that the covariance matrix of the errors is correctly specified.\n"
     ]
    }
   ],
   "source": [
    "aux=((demre['PREFERENCIA']-predictions)**2-predictions)/predictions\n",
    "auxr=sm.OLS(aux,predictions).fit()\n",
    "print(auxr.summary())"
   ]
  },
  {
   "cell_type": "code",
   "execution_count": 34,
   "metadata": {},
   "outputs": [
    {
     "name": "stdout",
     "output_type": "stream",
     "text": [
      "Warning: Maximum number of iterations has been exceeded.\n",
      "         Current function value: 1.887567\n",
      "         Iterations: 35\n",
      "         Function evaluations: 48\n",
      "         Gradient evaluations: 48\n",
      "                     NegativeBinomial Regression Results                      \n",
      "==============================================================================\n",
      "Dep. Variable:            PREFERENCIA   No. Observations:               115353\n",
      "Model:               NegativeBinomial   Df Residuals:                   115345\n",
      "Method:                           MLE   Df Model:                            7\n",
      "Date:                Fri, 04 Apr 2025   Pseudo R-squ.:                0.005100\n",
      "Time:                        13:48:31   Log-Likelihood:            -2.1774e+05\n",
      "converged:                      False   LL-Null:                   -2.1885e+05\n",
      "Covariance Type:            nonrobust   LLR p-value:                     0.000\n",
      "=============================================================================================================================\n",
      "                                                                coef    std err          z      P>|z|      [0.025      0.975]\n",
      "-----------------------------------------------------------------------------------------------------------------------------\n",
      "Intercept                                                     1.6322      0.017     93.685      0.000       1.598       1.666\n",
      "C(TIPO, Treatment(reference='REGULAR'))[T.+MC]                0.0223      0.194      0.115      0.909      -0.358       0.402\n",
      "C(TIPO, Treatment(reference='REGULAR'))[T.BEA]               -0.6145      0.260     -2.360      0.018      -1.125      -0.104\n",
      "C(TIPO, Treatment(reference='REGULAR'))[T.PACE]               0.0757      0.251      0.301      0.763      -0.416       0.567\n",
      "PTJE_POND                                                    -0.0011   2.46e-05    -46.218      0.000      -0.001      -0.001\n",
      "PTJE_POND:C(TIPO, Treatment(reference='REGULAR'))[T.+MC]     -0.0001      0.000     -0.444      0.657      -0.001       0.000\n",
      "PTJE_POND:C(TIPO, Treatment(reference='REGULAR'))[T.BEA]      0.0008      0.000      2.362      0.018       0.000       0.002\n",
      "PTJE_POND:C(TIPO, Treatment(reference='REGULAR'))[T.PACE]  3.787e-05      0.000      0.144      0.885      -0.000       0.001\n",
      "alpha                                                         0.2722      0.003    107.984      0.000       0.267       0.277\n",
      "=============================================================================================================================\n"
     ]
    }
   ],
   "source": [
    "nbin = smf.negativebinomial(\"PREFERENCIA ~ PTJE_POND*C(TIPO, Treatment(reference='REGULAR'))\", data=demre).fit(alpha=1.24)\n",
    "print(nbin.summary())"
   ]
  },
  {
   "cell_type": "code",
   "execution_count": 35,
   "metadata": {},
   "outputs": [
    {
     "data": {
      "text/plain": [
       "<Axes: xlabel='predictions', ylabel='PREFERENCIA'>"
      ]
     },
     "execution_count": 35,
     "metadata": {},
     "output_type": "execute_result"
    },
    {
     "data": {
      "image/png": "[encoded data removed]",
      "text/plain": [
       "<Figure size 640x480 with 1 Axes>"
      ]
     },
     "metadata": {},
     "output_type": "display_data"
    }
   ],
   "source": [
    "sns.scatterplot(data=demre, y=\"PREFERENCIA\", x=\"predictions\")"
   ]
  },
  {
   "cell_type": "markdown",
   "metadata": {},
   "source": [
    "<font size=\"3\">**Tarea 1 2025**</font>\n",
    "\n",
    "<u> *Instrucciones* </u>\n",
    "\n",
    "Su notebook con las respuestas a la tarea se deben entregar a mas tardar el dia 21/04/25 hasta las 21:00, subiendolo al repositorio en la carpeta tareas/2025. \n",
    "\n",
    "Es importante considerar que el código debe poder ejecutarse en cualquier computadora con la data original del repositorio. Recordar la convencion para el nombre de archivo ademas de incluir en su documento titulos y encabezados por seccion. La data a utilizar es **machine_failure_data.csv**.\n",
    "\n",
    "Las variables tienen la siguiente descripcion:\n",
    "\n",
    "- Date: data medida en frecuencia diaria\n",
    "- Location: ubicacion del medidor\n",
    "- Min_Temp: temperatura minima observada\n",
    "- Max_Temp: temperatura maxima observada\n",
    "- Leakage: Filtracion medida en el area\n",
    "- Evaporation: Tasa de evaporacion\n",
    "- Electricity: Consumo electrico KW\n",
    "- Parameter#: Diferentes sensores de reportando direccion y velocidad de viento en distintos momentos del dia, asi como otras metricas relevantes.\n",
    "- Failure today: El sensor reporta fallo (o no)"
   ]
  },
  {
   "cell_type": "markdown",
   "metadata": {},
   "source": [
    "<u> Preguntas (todas tienen el mismo puntaje): </u> \n",
    "\n",
    "1. Cargar la base de datos en el ambiente. Identifique los tipos de datos que se encuentran en la base, realice estadisticas descriptivas sobre las variables importantes (Hint: Revisar la distribuciones, datos faltantes, outliers, etc.) y limpie las variables cuando sea necesario. \n",
    "\n",
    "2. Ejecute un modelo de probabilidad lineal (*MCO*) que permita explicar la probabilidad de que un dia se reporte fallo medido por sensor, a partir de las informacion disponible. Seleccione las variables dependientes a incluir en el modelo final e interprete su significado. \n",
    "\n",
    "3. Ejecute un modelo *probit* para responder a la pregunta 2. Seleccione las variables dependientes a incluir en el modelo final e interprete su significado. \n",
    "\n",
    "4. Ejecute un modelo *logit*  para responder a la pregunta 2. Seleccione las variables dependientes a incluir en el modelo final e interprete su significado. \n",
    "\n",
    "5. Comente los resultados obtenidos en 2, 3 y 4. ¿Cuáles y por qué existen las diferencias entre los resultados?. En su opinión, ¿Cuál sería el más adecuado para responder la pregunta de investgación y por qué? ¿Qué variables resultaron ser robustas a la especificación?\n",
    "\n",
    "6. Agregue la data a nivel mensual, usando la data promedio de las variables (ignorando aquellas categoricas, como la direccion del viento). En particular, genere una variable que cuente la cantidad de fallos observados en un mes, utilice un valor de 0 si en ese mes no se reporto fallos en ningun dia. Use un modelo Poisson para explicar el numero de fallas por mes. Seleccione las variables dependientes a incluir en el modelo final e interprete su significado. \n",
    "\n",
    "7. Determine sobre dispersion en la data y posible valor optimo de alpha para un modelo Binomial Negativa.\n",
    "\n",
    "8. Usando la informacion anterior, ejecute un modelo Binomial Negativa para responder a la pregunta 6. Seleccione las variables dependientes a incluir en el modelo final e interprete su significado. \n",
    "\n",
    "9. Comente los resultados obtenidos en 6, 7 y 8. ¿Cuáles y por qué existen las diferencias entre los resultados?. En su opinión, ¿Cuál sería el más adecuado para responder la pregunta de investgación y por qué? ¿Qué variables resultaron ser robustas a la especificación?"
   ]
  },
  {
   "cell_type": "markdown",
   "metadata": {},
   "source": []
  },
  {
   "cell_type": "markdown",
   "metadata": {},
   "source": [
    "<font size=\"3\">**Tarea 1 2024 (Pauta)**</font>\n",
    "\n",
    "<u> *Instrucciones* </u>\n",
    "\n",
    "Es importante considerar que el código debe poder ejecutarse en cualquier computadora con la data original del repositorio. Recordar la convencion para el nombre de archivo ademas de incluir en su documento titulos y encabezados por seccion. La data a utilizar es **disease.csv**.\n",
    "\n",
    "Las variables tienen la siguiente descripcion:\n",
    "\n",
    "Glucose: This is the level of glucose in the blood, measured in milligrams per deciliter (mg/dL)\n",
    "\n",
    "Cholesterol: This is the level of cholesterol in the blood, measured in milligrams per deciliter (mg/dL)\n",
    "\n",
    "Hemoglobin: This is the protein in red blood cells that carries oxygen from the lungs to the rest of the body\n",
    "\n",
    "Platelets: Platelets are blood cells that help with clotting\n",
    "\n",
    "White Blood Cells (WBC): These are cells of the immune system that help fight infections\n",
    "\n",
    "Red Blood Cells (RBC): These are the cells that carry oxygen from the lungs to the rest of the body\n",
    "\n",
    "Hematocrit: This is the percentage of blood volume that is occupied by red blood cells\n",
    "\n",
    "Mean Corpuscular Volume (MCV): This is the average volume of red blood cells\n",
    "\n",
    "Mean Corpuscular Hemoglobin (MCH): This is the average amount of hemoglobin in a red blood cell\n",
    "\n",
    "Insulin: This is a hormone that helps regulate blood sugar levels\n",
    "\n",
    "BMI (Body Mass Index): This is a measure of body fat based on height and weight\n",
    "\n",
    "Systolic Blood Pressure (SBP): This is the pressure in the arteries when the heart beats\n",
    "\n",
    "Diastolic Blood Pressure (DBP): This is the pressure in the arteries when the heart is at rest between beats\n",
    "\n",
    "Triglycerides: These are a type of fat found in the blood, measured in milligrams per deciliter (mg/dL)\n",
    "\n",
    "HbA1c (Glycated Hemoglobin): This is a measure of average blood sugar levels over the past two to three months\n",
    "\n",
    "LDL (Low-Density Lipoprotein) Cholesterol: This is the \"bad\" cholesterol that can build up in the arteries\n",
    "\n",
    "HDL (High-Density Lipoprotein) Cholesterol: This is the \"good\" cholesterol that helps remove LDL cholesterol from the arteries\n",
    "\n",
    "Heart Rate: This is the number of heartbeats per minute (bpm)\n",
    "\n",
    "Creatinine: This is a waste product produced by muscles and filtered out of the blood by the kidneys\n",
    "\n",
    "C-reactive Protein (CRP): This is a marker of inflammation in the body\n",
    "\n",
    "Disease: This indicates the number of diseases (0 indicates healthy)"
   ]
  },
  {
   "cell_type": "markdown",
   "metadata": {},
   "source": [
    "Preguntas:\n",
    "\n",
    "1. Cargar la base de datos *disease.csv* en el ambiente. Identifique los tipos de datos que se encuentran en la base, realice estadisticas descriptivas sobre las variables importantes (Hint: Revisar la distribuciones, datos faltantes, outliers, etc.) y limpie las variables cuando sea necesario.\n",
    "\n",
    "**R**: En este caso particular solo era necesario generar una variable binaria a partir de *Disease*, mientras que la matriz de correlaciones permite analizar que variables podrian excluirse del modelo."
   ]
  },
  {
   "cell_type": "code",
   "execution_count": 36,
   "metadata": {},
   "outputs": [
    {
     "data": {
      "application/vnd.microsoft.datawrangler.viewer.v0+json": {
       "columns": [
        {
         "name": "index",
         "rawType": "object",
         "type": "string"
        },
        {
         "name": "Glucose",
         "rawType": "float64",
         "type": "float"
        },
        {
         "name": "Cholesterol",
         "rawType": "float64",
         "type": "float"
        },
        {
         "name": "Hemoglobin",
         "rawType": "float64",
         "type": "float"
        },
        {
         "name": "Platelets",
         "rawType": "float64",
         "type": "float"
        },
        {
         "name": "White Blood Cells",
         "rawType": "float64",
         "type": "float"
        },
        {
         "name": "Red Blood Cells",
         "rawType": "float64",
         "type": "float"
        },
        {
         "name": "Hematocrit",
         "rawType": "float64",
         "type": "float"
        },
        {
         "name": "MCV",
         "rawType": "float64",
         "type": "float"
        },
        {
         "name": "MCH",
         "rawType": "float64",
         "type": "float"
        },
        {
         "name": "Insulin",
         "rawType": "float64",
         "type": "float"
        },
        {
         "name": "BMI",
         "rawType": "float64",
         "type": "float"
        },
        {
         "name": "Systolic Blood Pressure",
         "rawType": "float64",
         "type": "float"
        },
        {
         "name": "BP",
         "rawType": "float64",
         "type": "float"
        },
        {
         "name": "Triglycerides",
         "rawType": "float64",
         "type": "float"
        },
        {
         "name": "HbA1c",
         "rawType": "float64",
         "type": "float"
        },
        {
         "name": "LDL Chol",
         "rawType": "float64",
         "type": "float"
        },
        {
         "name": "HDL Chol",
         "rawType": "float64",
         "type": "float"
        },
        {
         "name": "Heart Rate",
         "rawType": "float64",
         "type": "float"
        },
        {
         "name": "Creatinine",
         "rawType": "float64",
         "type": "float"
        },
        {
         "name": "C-reactive Protein",
         "rawType": "float64",
         "type": "float"
        },
        {
         "name": "Disease",
         "rawType": "float64",
         "type": "float"
        },
        {
         "name": "dd",
         "rawType": "float64",
         "type": "float"
        }
       ],
       "conversionMethod": "pd.DataFrame",
       "ref": "6d5ad980-fc63-4a6c-8dcb-6298a17952cd",
       "rows": [
        [
         "count",
         "2351.0",
         "2351.0",
         "2351.0",
         "2351.0",
         "2351.0",
         "2351.0",
         "2351.0",
         "2351.0",
         "2351.0",
         "2351.0",
         "2351.0",
         "2351.0",
         "2351.0",
         "2351.0",
         "2351.0",
         "2351.0",
         "2351.0",
         "2351.0",
         "2351.0",
         "2351.0",
         "2351.0",
         "2351.0"
        ],
        [
         "mean",
         "0.3628277316444067",
         "0.3936481181616333",
         "0.5861895365954912",
         "0.5040269813755849",
         "0.5110861761246279",
         "0.5065896643781369",
         "0.5071523494223734",
         "0.49220045801105916",
         "0.48445894177243726",
         "0.44706244561718417",
         "0.43667910959123774",
         "0.3812113590510421",
         "0.42170845328413437",
         "0.37437285769544876",
         "0.4391118338945129",
         "0.42177713455423227",
         "0.5460788392058699",
         "0.5822551373449596",
         "0.42507455662101234",
         "0.4303077941578052",
         "1.5831561037856232",
         "0.7635048915355168"
        ],
        [
         "std",
         "0.25188912833395066",
         "0.2394494458717594",
         "0.27149799174013833",
         "0.3033466696034973",
         "0.27726979780184435",
         "0.26656471983106794",
         "0.2855373948783104",
         "0.2757351238855925",
         "0.31561805522236763",
         "0.24286103248429122",
         "0.2428654872177035",
         "0.23278487081923707",
         "0.24876821379877925",
         "0.25698056706655087",
         "0.2637794006539903",
         "0.2521236730589504",
         "0.2695105303750008",
         "0.25091539837159915",
         "0.22929821062168512",
         "0.24303377679193752",
         "1.209799171255368",
         "0.42502000938816753"
        ],
        [
         "min",
         "0.010993928",
         "0.012139386",
         "0.003021347",
         "0.012593787",
         "0.010138508",
         "0.044565078",
         "0.011771723",
         "0.046941527",
         "0.000553627",
         "0.034129122",
         "0.014595608",
         "0.005988262",
         "0.005578648",
         "0.00521692",
         "0.01625564",
         "0.033037314",
         "0.039505311",
         "0.114550348",
         "0.021239415",
         "0.004867322",
         "0.0",
         "0.0"
        ],
        [
         "25%",
         "0.1291977865",
         "0.195817742",
         "0.3460916545",
         "0.200864919",
         "0.259467107",
         "0.263588938",
         "0.288132085",
         "0.287531761",
         "0.207938382",
         "0.219111116",
         "0.246885489",
         "0.179950841",
         "0.175469125",
         "0.184604276",
         "0.18875007",
         "0.217756967",
         "0.307131896",
         "0.339124698",
         "0.21302641",
         "0.196192403",
         "1.0",
         "1.0"
        ],
        [
         "50%",
         "0.351722183",
         "0.397082597",
         "0.609835989",
         "0.533962383",
         "0.527381352",
         "0.467430932",
         "0.493427618",
         "0.453051972",
         "0.420723118",
         "0.444806014",
         "0.443724771",
         "0.359064087",
         "0.474378211",
         "0.317856634",
         "0.466375172",
         "0.413071117",
         "0.512940563",
         "0.610860336",
         "0.417294725",
         "0.481600872",
         "1.0",
         "1.0"
        ],
        [
         "75%",
         "0.582277746",
         "0.58217786",
         "0.791215479",
         "0.754841064",
         "0.74316413",
         "0.743670141",
         "0.753657237",
         "0.722293206",
         "0.778160262",
         "0.654440623",
         "0.601662335",
         "0.580902575",
         "0.663382492",
         "0.57233026",
         "0.652513614",
         "0.604752717",
         "0.77937823",
         "0.800665778",
         "0.606718792",
         "0.631425586",
         "3.0",
         "1.0"
        ],
        [
         "max",
         "0.968460209",
         "0.905026423",
         "0.983305786",
         "0.99939313",
         "0.990785703",
         "1.0",
         "0.977520304",
         "0.995262949",
         "0.963234773",
         "0.966783624",
         "0.89820995",
         "0.829099634",
         "0.934617481",
         "0.973679405",
         "0.95021811",
         "0.983826476",
         "0.989411294",
         "0.996872806",
         "0.925924262",
         "0.797905872",
         "4.0",
         "1.0"
        ]
       ],
       "shape": {
        "columns": 22,
        "rows": 8
       }
      },
      "text/html": [
       "<div>\n",
       "<style scoped>\n",
       "    .dataframe tbody tr th:only-of-type {\n",
       "        vertical-align: middle;\n",
       "    }\n",
       "\n",
       "    .dataframe tbody tr th {\n",
       "        vertical-align: top;\n",
       "    }\n",
       "\n",
       "    .dataframe thead th {\n",
       "        text-align: right;\n",
       "    }\n",
       "</style>\n",
       "<table border=\"1\" class=\"dataframe\">\n",
       "  <thead>\n",
       "    <tr style=\"text-align: right;\">\n",
       "      <th></th>\n",
       "      <th>Glucose</th>\n",
       "      <th>Cholesterol</th>\n",
       "      <th>Hemoglobin</th>\n",
       "      <th>Platelets</th>\n",
       "      <th>White Blood Cells</th>\n",
       "      <th>Red Blood Cells</th>\n",
       "      <th>Hematocrit</th>\n",
       "      <th>MCV</th>\n",
       "      <th>MCH</th>\n",
       "      <th>Insulin</th>\n",
       "      <th>...</th>\n",
       "      <th>BP</th>\n",
       "      <th>Triglycerides</th>\n",
       "      <th>HbA1c</th>\n",
       "      <th>LDL Chol</th>\n",
       "      <th>HDL Chol</th>\n",
       "      <th>Heart Rate</th>\n",
       "      <th>Creatinine</th>\n",
       "      <th>C-reactive Protein</th>\n",
       "      <th>Disease</th>\n",
       "      <th>dd</th>\n",
       "    </tr>\n",
       "  </thead>\n",
       "  <tbody>\n",
       "    <tr>\n",
       "      <th>count</th>\n",
       "      <td>2351.000000</td>\n",
       "      <td>2351.000000</td>\n",
       "      <td>2351.000000</td>\n",
       "      <td>2351.000000</td>\n",
       "      <td>2351.000000</td>\n",
       "      <td>2351.000000</td>\n",
       "      <td>2351.000000</td>\n",
       "      <td>2351.000000</td>\n",
       "      <td>2351.000000</td>\n",
       "      <td>2351.000000</td>\n",
       "      <td>...</td>\n",
       "      <td>2351.000000</td>\n",
       "      <td>2351.000000</td>\n",
       "      <td>2351.000000</td>\n",
       "      <td>2351.000000</td>\n",
       "      <td>2351.000000</td>\n",
       "      <td>2351.000000</td>\n",
       "      <td>2351.000000</td>\n",
       "      <td>2351.000000</td>\n",
       "      <td>2351.000000</td>\n",
       "      <td>2351.000000</td>\n",
       "    </tr>\n",
       "    <tr>\n",
       "      <th>mean</th>\n",
       "      <td>0.362828</td>\n",
       "      <td>0.393648</td>\n",
       "      <td>0.586190</td>\n",
       "      <td>0.504027</td>\n",
       "      <td>0.511086</td>\n",
       "      <td>0.506590</td>\n",
       "      <td>0.507152</td>\n",
       "      <td>0.492200</td>\n",
       "      <td>0.484459</td>\n",
       "      <td>0.447062</td>\n",
       "      <td>...</td>\n",
       "      <td>0.421708</td>\n",
       "      <td>0.374373</td>\n",
       "      <td>0.439112</td>\n",
       "      <td>0.421777</td>\n",
       "      <td>0.546079</td>\n",
       "      <td>0.582255</td>\n",
       "      <td>0.425075</td>\n",
       "      <td>0.430308</td>\n",
       "      <td>1.583156</td>\n",
       "      <td>0.763505</td>\n",
       "    </tr>\n",
       "    <tr>\n",
       "      <th>std</th>\n",
       "      <td>0.251889</td>\n",
       "      <td>0.239449</td>\n",
       "      <td>0.271498</td>\n",
       "      <td>0.303347</td>\n",
       "      <td>0.277270</td>\n",
       "      <td>0.266565</td>\n",
       "      <td>0.285537</td>\n",
       "      <td>0.275735</td>\n",
       "      <td>0.315618</td>\n",
       "      <td>0.242861</td>\n",
       "      <td>...</td>\n",
       "      <td>0.248768</td>\n",
       "      <td>0.256981</td>\n",
       "      <td>0.263779</td>\n",
       "      <td>0.252124</td>\n",
       "      <td>0.269511</td>\n",
       "      <td>0.250915</td>\n",
       "      <td>0.229298</td>\n",
       "      <td>0.243034</td>\n",
       "      <td>1.209799</td>\n",
       "      <td>0.425020</td>\n",
       "    </tr>\n",
       "    <tr>\n",
       "      <th>min</th>\n",
       "      <td>0.010994</td>\n",
       "      <td>0.012139</td>\n",
       "      <td>0.003021</td>\n",
       "      <td>0.012594</td>\n",
       "      <td>0.010139</td>\n",
       "      <td>0.044565</td>\n",
       "      <td>0.011772</td>\n",
       "      <td>0.046942</td>\n",
       "      <td>0.000554</td>\n",
       "      <td>0.034129</td>\n",
       "      <td>...</td>\n",
       "      <td>0.005579</td>\n",
       "      <td>0.005217</td>\n",
       "      <td>0.016256</td>\n",
       "      <td>0.033037</td>\n",
       "      <td>0.039505</td>\n",
       "      <td>0.114550</td>\n",
       "      <td>0.021239</td>\n",
       "      <td>0.004867</td>\n",
       "      <td>0.000000</td>\n",
       "      <td>0.000000</td>\n",
       "    </tr>\n",
       "    <tr>\n",
       "      <th>25%</th>\n",
       "      <td>0.129198</td>\n",
       "      <td>0.195818</td>\n",
       "      <td>0.346092</td>\n",
       "      <td>0.200865</td>\n",
       "      <td>0.259467</td>\n",
       "      <td>0.263589</td>\n",
       "      <td>0.288132</td>\n",
       "      <td>0.287532</td>\n",
       "      <td>0.207938</td>\n",
       "      <td>0.219111</td>\n",
       "      <td>...</td>\n",
       "      <td>0.175469</td>\n",
       "      <td>0.184604</td>\n",
       "      <td>0.188750</td>\n",
       "      <td>0.217757</td>\n",
       "      <td>0.307132</td>\n",
       "      <td>0.339125</td>\n",
       "      <td>0.213026</td>\n",
       "      <td>0.196192</td>\n",
       "      <td>1.000000</td>\n",
       "      <td>1.000000</td>\n",
       "    </tr>\n",
       "    <tr>\n",
       "      <th>50%</th>\n",
       "      <td>0.351722</td>\n",
       "      <td>0.397083</td>\n",
       "      <td>0.609836</td>\n",
       "      <td>0.533962</td>\n",
       "      <td>0.527381</td>\n",
       "      <td>0.467431</td>\n",
       "      <td>0.493428</td>\n",
       "      <td>0.453052</td>\n",
       "      <td>0.420723</td>\n",
       "      <td>0.444806</td>\n",
       "      <td>...</td>\n",
       "      <td>0.474378</td>\n",
       "      <td>0.317857</td>\n",
       "      <td>0.466375</td>\n",
       "      <td>0.413071</td>\n",
       "      <td>0.512941</td>\n",
       "      <td>0.610860</td>\n",
       "      <td>0.417295</td>\n",
       "      <td>0.481601</td>\n",
       "      <td>1.000000</td>\n",
       "      <td>1.000000</td>\n",
       "    </tr>\n",
       "    <tr>\n",
       "      <th>75%</th>\n",
       "      <td>0.582278</td>\n",
       "      <td>0.582178</td>\n",
       "      <td>0.791215</td>\n",
       "      <td>0.754841</td>\n",
       "      <td>0.743164</td>\n",
       "      <td>0.743670</td>\n",
       "      <td>0.753657</td>\n",
       "      <td>0.722293</td>\n",
       "      <td>0.778160</td>\n",
       "      <td>0.654441</td>\n",
       "      <td>...</td>\n",
       "      <td>0.663382</td>\n",
       "      <td>0.572330</td>\n",
       "      <td>0.652514</td>\n",
       "      <td>0.604753</td>\n",
       "      <td>0.779378</td>\n",
       "      <td>0.800666</td>\n",
       "      <td>0.606719</td>\n",
       "      <td>0.631426</td>\n",
       "      <td>3.000000</td>\n",
       "      <td>1.000000</td>\n",
       "    </tr>\n",
       "    <tr>\n",
       "      <th>max</th>\n",
       "      <td>0.968460</td>\n",
       "      <td>0.905026</td>\n",
       "      <td>0.983306</td>\n",
       "      <td>0.999393</td>\n",
       "      <td>0.990786</td>\n",
       "      <td>1.000000</td>\n",
       "      <td>0.977520</td>\n",
       "      <td>0.995263</td>\n",
       "      <td>0.963235</td>\n",
       "      <td>0.966784</td>\n",
       "      <td>...</td>\n",
       "      <td>0.934617</td>\n",
       "      <td>0.973679</td>\n",
       "      <td>0.950218</td>\n",
       "      <td>0.983826</td>\n",
       "      <td>0.989411</td>\n",
       "      <td>0.996873</td>\n",
       "      <td>0.925924</td>\n",
       "      <td>0.797906</td>\n",
       "      <td>4.000000</td>\n",
       "      <td>1.000000</td>\n",
       "    </tr>\n",
       "  </tbody>\n",
       "</table>\n",
       "<p>8 rows × 22 columns</p>\n",
       "</div>"
      ],
      "text/plain": [
       "           Glucose  Cholesterol   Hemoglobin    Platelets  White Blood Cells  \\\n",
       "count  2351.000000  2351.000000  2351.000000  2351.000000        2351.000000   \n",
       "mean      0.362828     0.393648     0.586190     0.504027           0.511086   \n",
       "std       0.251889     0.239449     0.271498     0.303347           0.277270   \n",
       "min       0.010994     0.012139     0.003021     0.012594           0.010139   \n",
       "25%       0.129198     0.195818     0.346092     0.200865           0.259467   \n",
       "50%       0.351722     0.397083     0.609836     0.533962           0.527381   \n",
       "75%       0.582278     0.582178     0.791215     0.754841           0.743164   \n",
       "max       0.968460     0.905026     0.983306     0.999393           0.990786   \n",
       "\n",
       "       Red Blood Cells   Hematocrit          MCV          MCH      Insulin  \\\n",
       "count      2351.000000  2351.000000  2351.000000  2351.000000  2351.000000   \n",
       "mean          0.506590     0.507152     0.492200     0.484459     0.447062   \n",
       "std           0.266565     0.285537     0.275735     0.315618     0.242861   \n",
       "min           0.044565     0.011772     0.046942     0.000554     0.034129   \n",
       "25%           0.263589     0.288132     0.287532     0.207938     0.219111   \n",
       "50%           0.467431     0.493428     0.453052     0.420723     0.444806   \n",
       "75%           0.743670     0.753657     0.722293     0.778160     0.654441   \n",
       "max           1.000000     0.977520     0.995263     0.963235     0.966784   \n",
       "\n",
       "       ...           BP  Triglycerides        HbA1c     LDL Chol     HDL Chol  \\\n",
       "count  ...  2351.000000    2351.000000  2351.000000  2351.000000  2351.000000   \n",
       "mean   ...     0.421708       0.374373     0.439112     0.421777     0.546079   \n",
       "std    ...     0.248768       0.256981     0.263779     0.252124     0.269511   \n",
       "min    ...     0.005579       0.005217     0.016256     0.033037     0.039505   \n",
       "25%    ...     0.175469       0.184604     0.188750     0.217757     0.307132   \n",
       "50%    ...     0.474378       0.317857     0.466375     0.413071     0.512941   \n",
       "75%    ...     0.663382       0.572330     0.652514     0.604753     0.779378   \n",
       "max    ...     0.934617       0.973679     0.950218     0.983826     0.989411   \n",
       "\n",
       "        Heart Rate   Creatinine  C-reactive Protein      Disease           dd  \n",
       "count  2351.000000  2351.000000         2351.000000  2351.000000  2351.000000  \n",
       "mean      0.582255     0.425075            0.430308     1.583156     0.763505  \n",
       "std       0.250915     0.229298            0.243034     1.209799     0.425020  \n",
       "min       0.114550     0.021239            0.004867     0.000000     0.000000  \n",
       "25%       0.339125     0.213026            0.196192     1.000000     1.000000  \n",
       "50%       0.610860     0.417295            0.481601     1.000000     1.000000  \n",
       "75%       0.800666     0.606719            0.631426     3.000000     1.000000  \n",
       "max       0.996873     0.925924            0.797906     4.000000     1.000000  \n",
       "\n",
       "[8 rows x 22 columns]"
      ]
     },
     "execution_count": 36,
     "metadata": {},
     "output_type": "execute_result"
    }
   ],
   "source": [
    "df = pd.read_csv('../data/disease.csv')\n",
    "df['dd'] = df['Disease'].apply(lambda x: 1 if x > 0 else 0)\n",
    "df = df.rename(columns={\"Mean Corpuscular Volume\": \"MCV\", \n",
    "                        \"Mean Corpuscular Hemoglobin\": \"MCH\",\n",
    "                        \"Diastolic Blood Pressure\": \"BP\",\n",
    "                        \"HDL Cholesterol\": \"HDL Chol\",\n",
    "                        \"LDL Cholesterol\": \"LDL Chol\"})\n",
    "df.dropna(inplace=True)\n",
    "df.describe()"
   ]
  },
  {
   "cell_type": "code",
   "execution_count": 37,
   "metadata": {},
   "outputs": [
    {
     "data": {
      "text/plain": [
       "<Axes: >"
      ]
     },
     "execution_count": 37,
     "metadata": {},
     "output_type": "execute_result"
    },
    {
     "data": {
      "image/png": "[encoded data removed]",
      "text/plain": [
       "<Figure size 1100x900 with 2 Axes>"
      ]
     },
     "metadata": {},
     "output_type": "display_data"
    }
   ],
   "source": [
    "corr = df.corr()\n",
    "\n",
    "mask = np.triu(np.ones_like(corr, dtype=bool))\n",
    "f, ax = plt.subplots(figsize=(11, 9))\n",
    "cmap = sns.diverging_palette(230, 20, as_cmap=True)\n",
    "sns.heatmap(corr, mask=mask, cmap=cmap, vmax=.3, center=0,\n",
    "            square=True, linewidths=.5, cbar_kws={\"shrink\": .5})"
   ]
  },
  {
   "cell_type": "markdown",
   "metadata": {},
   "source": [
    "\n",
    "2. Ejecute un modelo de probabilidad lineal (*MCO*) que permita explicar la probabilidad de que una persona tenga al menos una enfermedad. Seleccione las variables dependientes a incluir en el modelo final e interprete su significado.\n",
    "\n",
    "**R**: Segun el modelo, excluyendo las variables que no contribuyen dada alta correlacion, el BMI y ritmo cardiaco se asocian positivamente de forma importante a la probabilidad de tener alguna morbilidad, asi como el colesterol total y ciertas caracteristicas de la sangre (MCV, MCH). De la misma manera, otros marcadores bioquimicos indican una asociacion negativa, tales como la glucosa, los trigliceridos y la insulina. Los resultados se interpretan como cambio en puntos porcentuales por cambio de una unidad en la variable (escala de 0 a 100). Por ejemplo, un cambio de una unidad en colesterol total indica un cambio de 0.5 puntos porcentuales en la probabilidad de tener al menos una enfermedad. "
   ]
  },
  {
   "cell_type": "code",
   "execution_count": 38,
   "metadata": {},
   "outputs": [
    {
     "name": "stdout",
     "output_type": "stream",
     "text": [
      "                            OLS Regression Results                            \n",
      "==============================================================================\n",
      "Dep. Variable:                     dd   R-squared:                       0.487\n",
      "Model:                            OLS   Adj. R-squared:                  0.483\n",
      "Method:                 Least Squares   F-statistic:                     236.2\n",
      "Date:                Fri, 04 Apr 2025   Prob (F-statistic):               0.00\n",
      "Time:                        13:48:32   Log-Likelihood:                -539.42\n",
      "No. Observations:                2351   AIC:                             1117.\n",
      "Df Residuals:                    2332   BIC:                             1226.\n",
      "Df Model:                          18                                         \n",
      "Covariance Type:                  HC0                                         \n",
      "======================================================================================\n",
      "                         coef    std err          z      P>|z|      [0.025      0.975]\n",
      "--------------------------------------------------------------------------------------\n",
      "const                  0.7573      0.044     17.136      0.000       0.671       0.844\n",
      "Glucose               -0.0036      0.000    -13.196      0.000      -0.004      -0.003\n",
      "Cholesterol            0.0052      0.000     17.836      0.000       0.005       0.006\n",
      "Hemoglobin             0.0020      0.000      7.071      0.000       0.001       0.003\n",
      "Platelets             -0.0044      0.000    -20.314      0.000      -0.005      -0.004\n",
      "White Blood Cells     -0.0043      0.000    -20.011      0.000      -0.005      -0.004\n",
      "Red Blood Cells       -0.0037      0.000    -15.924      0.000      -0.004      -0.003\n",
      "Hematocrit            -0.0023      0.000     -8.921      0.000      -0.003      -0.002\n",
      "MCV                    0.0063      0.000     24.897      0.000       0.006       0.007\n",
      "MCH                    0.0029      0.000     13.634      0.000       0.003       0.003\n",
      "Insulin               -0.0010      0.000     -3.317      0.001      -0.002      -0.000\n",
      "BMI                    0.0034      0.000     10.476      0.000       0.003       0.004\n",
      "BP                    -0.0013      0.000     -4.715      0.000      -0.002      -0.001\n",
      "Triglycerides         -0.0026      0.000     -8.228      0.000      -0.003      -0.002\n",
      "HbA1c                  0.0012      0.000      5.479      0.000       0.001       0.002\n",
      "LDL Chol              -0.0020      0.000     -6.363      0.000      -0.003      -0.001\n",
      "HDL Chol              -0.0014      0.000     -6.112      0.000      -0.002      -0.001\n",
      "Heart Rate             0.0041      0.000     12.544      0.000       0.003       0.005\n",
      "C-reactive Protein     0.0007      0.000      2.141      0.032    5.58e-05       0.001\n",
      "==============================================================================\n",
      "Omnibus:                      121.515   Durbin-Watson:                   0.963\n",
      "Prob(Omnibus):                  0.000   Jarque-Bera (JB):              133.124\n",
      "Skew:                          -0.562   Prob(JB):                     1.24e-29\n",
      "Kurtosis:                       2.692   Cond. No.                     1.82e+03\n",
      "==============================================================================\n",
      "\n",
      "Notes:\n",
      "[1] Standard Errors are heteroscedasticity robust (HC0)\n",
      "[2] The condition number is large, 1.82e+03. This might indicate that there are\n",
      "strong multicollinearity or other numerical problems.\n"
     ]
    }
   ],
   "source": [
    "#Regresion excluyendo variables de alta correlacion\n",
    "y=df['dd']\n",
    "X=df.drop(['Disease', 'dd','Systolic Blood Pressure','Creatinine'], axis=1)\n",
    "X=X*100\n",
    "X=sm.add_constant(X)\n",
    "model = sm.OLS(y, X)\n",
    "results = model.fit(cov_type='HC0')\n",
    "print(results.summary())"
   ]
  },
  {
   "cell_type": "markdown",
   "metadata": {},
   "source": [
    "3. Ejecute un modelo *probit* para responder a la pregunta 2. Seleccione las variables dependientes a incluir en el modelo final e interprete su significado. \n",
    "\n",
    "**R**: Hay cambios importantes de magnitud en los efectos marginales (considerando a OLS), las asociaciones aumentan (en valor absoluto), en particular para variables como glucosa, colesterol y plaquetas. Un cambio de una unidad, en torno al promedio (en otras palabras un percentil en la distribucion), se traduce en cambios de una un punto porcentual, en promedio. Esta interpretacion permite entender de mejor manera un incremento relativo (en torno a la media) de un percentil sobre el riesgo (medido en porcentaje)."
   ]
  },
  {
   "cell_type": "code",
   "execution_count": 39,
   "metadata": {},
   "outputs": [
    {
     "name": "stdout",
     "output_type": "stream",
     "text": [
      "Optimization terminated successfully.\n",
      "         Current function value: 0.169501\n",
      "         Iterations 12\n",
      "                          Probit Regression Results                           \n",
      "==============================================================================\n",
      "Dep. Variable:                     dd   No. Observations:                 2351\n",
      "Model:                         Probit   Df Residuals:                     2334\n",
      "Method:                           MLE   Df Model:                           16\n",
      "Date:                Fri, 04 Apr 2025   Pseudo R-squ.:                  0.6901\n",
      "Time:                        13:48:32   Log-Likelihood:                -398.50\n",
      "converged:                       True   LL-Null:                       -1286.0\n",
      "Covariance Type:                  HC0   LLR p-value:                     0.000\n",
      "======================================================================================\n",
      "                         coef    std err          z      P>|z|      [0.025      0.975]\n",
      "--------------------------------------------------------------------------------------\n",
      "const                  7.2068      0.671     10.745      0.000       5.892       8.521\n",
      "Glucose               -0.1102      0.006    -17.013      0.000      -0.123      -0.097\n",
      "Cholesterol            0.1077      0.006     16.576      0.000       0.095       0.120\n",
      "Hemoglobin             0.0089      0.002      4.782      0.000       0.005       0.013\n",
      "Platelets             -0.1061      0.006    -16.481      0.000      -0.119      -0.093\n",
      "White Blood Cells     -0.0844      0.006    -14.745      0.000      -0.096      -0.073\n",
      "Red Blood Cells       -0.0886      0.004    -19.938      0.000      -0.097      -0.080\n",
      "Hematocrit            -0.0704      0.005    -15.222      0.000      -0.079      -0.061\n",
      "MCV                    0.1123      0.006     19.122      0.000       0.101       0.124\n",
      "MCH                    0.0564      0.004     15.722      0.000       0.049       0.063\n",
      "BMI                    0.0750      0.004     18.611      0.000       0.067       0.083\n",
      "BP                    -0.0478      0.003    -14.658      0.000      -0.054      -0.041\n",
      "Triglycerides         -0.0697      0.004    -18.543      0.000      -0.077      -0.062\n",
      "HbA1c                 -0.0124      0.003     -4.036      0.000      -0.018      -0.006\n",
      "HDL Chol              -0.0100      0.003     -3.517      0.000      -0.016      -0.004\n",
      "Heart Rate             0.0923      0.006     16.763      0.000       0.082       0.103\n",
      "C-reactive Protein     0.0538      0.004     14.054      0.000       0.046       0.061\n",
      "======================================================================================\n",
      "\n",
      "Possibly complete quasi-separation: A fraction 0.56 of observations can be\n",
      "perfectly predicted. This might indicate that there is complete\n",
      "quasi-separation. In this case some parameters will not be identified.\n",
      "       Probit Marginal Effects       \n",
      "=====================================\n",
      "Dep. Variable:                     dd\n",
      "Method:                          dydx\n",
      "At:                           overall\n",
      "======================================================================================\n",
      "                        dy/dx    std err          z      P>|z|      [0.025      0.975]\n",
      "--------------------------------------------------------------------------------------\n",
      "Glucose               -0.0105      0.000    -24.741      0.000      -0.011      -0.010\n",
      "Cholesterol            0.0103      0.001     20.090      0.000       0.009       0.011\n",
      "Hemoglobin             0.0008      0.000      4.732      0.000       0.000       0.001\n",
      "Platelets             -0.0101      0.000    -22.300      0.000      -0.011      -0.009\n",
      "White Blood Cells     -0.0080      0.000    -16.467      0.000      -0.009      -0.007\n",
      "Red Blood Cells       -0.0084      0.000    -26.038      0.000      -0.009      -0.008\n",
      "Hematocrit            -0.0067      0.000    -16.600      0.000      -0.008      -0.006\n",
      "MCV                    0.0107      0.000     30.718      0.000       0.010       0.011\n",
      "MCH                    0.0054      0.000     19.323      0.000       0.005       0.006\n",
      "BMI                    0.0071      0.000     27.174      0.000       0.007       0.008\n",
      "BP                    -0.0046      0.000    -14.164      0.000      -0.005      -0.004\n",
      "Triglycerides         -0.0066      0.000    -21.844      0.000      -0.007      -0.006\n",
      "HbA1c                 -0.0012      0.000     -4.114      0.000      -0.002      -0.001\n",
      "HDL Chol              -0.0010      0.000     -3.732      0.000      -0.001      -0.000\n",
      "Heart Rate             0.0088      0.000     23.990      0.000       0.008       0.010\n",
      "C-reactive Protein     0.0051      0.000     20.053      0.000       0.005       0.006\n",
      "======================================================================================\n"
     ]
    }
   ],
   "source": [
    "X1 = X.drop(['LDL Chol','Insulin'], axis=1)\n",
    "model = sm.Probit(y, X1)\n",
    "probit_model = model.fit(cov_type='HC0')\n",
    "print(probit_model.summary())\n",
    "\n",
    "mfxp = probit_model.get_margeff()\n",
    "print(mfxp.summary())"
   ]
  },
  {
   "cell_type": "markdown",
   "metadata": {},
   "source": [
    "4. Ejecute un modelo *logit*  para responder a la pregunta 2. Seleccione las variables dependientes a incluir en el modelo final e interprete su significado. \n",
    "\n",
    "**R**: Los cambios en los coeficientes estimados con Probit (en terminos de efectos marginales) no son estadisticamente significativos, lo cual es esperado. Sin embargo, logit permite entender tambien los cambios en riesgo relativo (odds ratio) de tener al menos una enfermadad (reportado en la ultima tabla)."
   ]
  },
  {
   "cell_type": "code",
   "execution_count": 40,
   "metadata": {},
   "outputs": [
    {
     "name": "stdout",
     "output_type": "stream",
     "text": [
      "Optimization terminated successfully.\n",
      "         Current function value: 0.168140\n",
      "         Iterations 12\n",
      "                           Logit Regression Results                           \n",
      "==============================================================================\n",
      "Dep. Variable:                     dd   No. Observations:                 2351\n",
      "Model:                          Logit   Df Residuals:                     2334\n",
      "Method:                           MLE   Df Model:                           16\n",
      "Date:                Fri, 04 Apr 2025   Pseudo R-squ.:                  0.6926\n",
      "Time:                        13:48:32   Log-Likelihood:                -395.30\n",
      "converged:                       True   LL-Null:                       -1286.0\n",
      "Covariance Type:                  HC0   LLR p-value:                     0.000\n",
      "======================================================================================\n",
      "                         coef    std err          z      P>|z|      [0.025      0.975]\n",
      "--------------------------------------------------------------------------------------\n",
      "const                 12.6531      1.048     12.069      0.000      10.598      14.708\n",
      "Glucose               -0.2044      0.022     -9.182      0.000      -0.248      -0.161\n",
      "Cholesterol            0.1965      0.015     12.994      0.000       0.167       0.226\n",
      "Hemoglobin             0.0152      0.004      4.238      0.000       0.008       0.022\n",
      "Platelets             -0.1921      0.015    -12.903      0.000      -0.221      -0.163\n",
      "White Blood Cells     -0.1475      0.010    -14.827      0.000      -0.167      -0.128\n",
      "Red Blood Cells       -0.1573      0.011    -14.192      0.000      -0.179      -0.136\n",
      "Hematocrit            -0.1241      0.008    -15.174      0.000      -0.140      -0.108\n",
      "MCV                    0.2015      0.015     13.228      0.000       0.172       0.231\n",
      "MCH                    0.1036      0.009     11.039      0.000       0.085       0.122\n",
      "BMI                    0.1325      0.009     13.975      0.000       0.114       0.151\n",
      "BP                    -0.0811      0.005    -15.891      0.000      -0.091      -0.071\n",
      "Triglycerides         -0.1248      0.009    -14.258      0.000      -0.142      -0.108\n",
      "HbA1c                 -0.0247      0.011     -2.352      0.019      -0.045      -0.004\n",
      "HDL Chol              -0.0252      0.009     -2.738      0.006      -0.043      -0.007\n",
      "Heart Rate             0.1717      0.018      9.739      0.000       0.137       0.206\n",
      "C-reactive Protein     0.0988      0.011      8.659      0.000       0.076       0.121\n",
      "======================================================================================\n",
      "\n",
      "Possibly complete quasi-separation: A fraction 0.53 of observations can be\n",
      "perfectly predicted. This might indicate that there is complete\n",
      "quasi-separation. In this case some parameters will not be identified.\n",
      "        Logit Marginal Effects       \n",
      "=====================================\n",
      "Dep. Variable:                     dd\n",
      "Method:                          dydx\n",
      "At:                           overall\n",
      "======================================================================================\n",
      "                        dy/dx    std err          z      P>|z|      [0.025      0.975]\n",
      "--------------------------------------------------------------------------------------\n",
      "Glucose               -0.0110      0.001    -15.740      0.000      -0.012      -0.010\n",
      "Cholesterol            0.0106      0.000     23.977      0.000       0.010       0.011\n",
      "Hemoglobin             0.0008      0.000      4.445      0.000       0.000       0.001\n",
      "Platelets             -0.0104      0.000    -27.334      0.000      -0.011      -0.010\n",
      "White Blood Cells     -0.0080      0.001    -14.799      0.000      -0.009      -0.007\n",
      "Red Blood Cells       -0.0085      0.000    -28.729      0.000      -0.009      -0.008\n",
      "Hematocrit            -0.0067      0.000    -17.813      0.000      -0.007      -0.006\n",
      "MCV                    0.0109      0.000     34.225      0.000       0.010       0.012\n",
      "MCH                    0.0056      0.000     19.680      0.000       0.005       0.006\n",
      "BMI                    0.0072      0.000     31.697      0.000       0.007       0.008\n",
      "BP                    -0.0044      0.000    -12.872      0.000      -0.005      -0.004\n",
      "Triglycerides         -0.0067      0.000    -24.245      0.000      -0.007      -0.006\n",
      "HbA1c                 -0.0013      0.001     -2.534      0.011      -0.002      -0.000\n",
      "HDL Chol              -0.0014      0.000     -3.133      0.002      -0.002      -0.001\n",
      "Heart Rate             0.0093      0.001     18.168      0.000       0.008       0.010\n",
      "C-reactive Protein     0.0053      0.000     14.792      0.000       0.005       0.006\n",
      "======================================================================================\n",
      "Odds Ratios\n",
      "                    Odds Ratio        5%       95%\n",
      "Glucose               0.780333  0.851485  0.815133\n",
      "Cholesterol           1.181553  1.253701  1.217092\n",
      "Hemoglobin            1.008204  1.022479  1.015317\n",
      "Platelets             0.801461  0.849636  0.825197\n",
      "White Blood Cells     0.846248  0.879887  0.862904\n",
      "Red Blood Cells       0.836061  0.873193  0.854425\n",
      "Hematocrit            0.869205  0.897531  0.883255\n",
      "MCV                   1.187241  1.260289  1.223220\n",
      "MCH                   1.088910  1.129701  1.109118\n",
      "BMI                   1.120630  1.163054  1.141645\n",
      "BP                    0.912877  0.931334  0.922060\n",
      "Triglycerides         0.867703  0.897980  0.882711\n",
      "HbA1c                 0.955712  0.995886  0.975593\n",
      "HDL Chol              0.957723  0.992873  0.975139\n",
      "Heart Rate            1.147008  1.229087  1.187339\n",
      "C-reactive Protein    1.079460  1.128850  1.103879\n"
     ]
    }
   ],
   "source": [
    "X1 = X.drop(['LDL Chol','Insulin'], axis=1)\n",
    "model = sm.Logit(y, X1)\n",
    "logit_model = model.fit(cov_type='HC0')\n",
    "print(logit_model.summary())\n",
    "\n",
    "mfxl = logit_model.get_margeff()\n",
    "print(mfxl.summary())\n",
    "\n",
    "params = logit_model.params\n",
    "conf = logit_model.conf_int()\n",
    "conf['Odds Ratio'] = params\n",
    "conf.columns = ['Odds Ratio', '5%', '95%']\n",
    "print(\"Odds Ratios\")\n",
    "print(np.exp(conf).iloc[1:17 , ])\n"
   ]
  },
  {
   "cell_type": "markdown",
   "metadata": {},
   "source": [
    "5. Comente los resultados obtenidos en 2, 3 y 4. ¿Cuáles y por qué existen las diferencias entre los resultados?. En su opinión, ¿Cuál sería el más adecuado para responder la pregunta de investgación y por qué? ¿Qué variables resultaron ser robustas a la especificación?\n",
    "\n",
    "**R**: En base a los resultados, el modelo MCO produce resultados incorrectos, por tanto Probit o Logit podrian ser apropiados. Dado el contexto, el modelo Logit provee mas informacion, por tanto es mas conveniente. Hay solo algunas variables como Insulina, LDL Chol, Creatinina y BP Sistolica no afectan directamente (teniendo en cuenta que el modelo puede estar mal especificado al no permitir interacciones entre variables)."
   ]
  },
  {
   "cell_type": "code",
   "execution_count": 41,
   "metadata": {},
   "outputs": [
    {
     "name": "stdout",
     "output_type": "stream",
     "text": [
      "                            OLS Regression Results                            \n",
      "==============================================================================\n",
      "Dep. Variable:                     dd   R-squared:                       0.475\n",
      "Model:                            OLS   Adj. R-squared:                  0.472\n",
      "Method:                 Least Squares   F-statistic:                     214.8\n",
      "Date:                Fri, 04 Apr 2025   Prob (F-statistic):               0.00\n",
      "Time:                        13:48:32   Log-Likelihood:                -566.18\n",
      "No. Observations:                2351   AIC:                             1166.\n",
      "Df Residuals:                    2334   BIC:                             1264.\n",
      "Df Model:                          16                                         \n",
      "Covariance Type:                  HC0                                         \n",
      "======================================================================================\n",
      "                         coef    std err          z      P>|z|      [0.025      0.975]\n",
      "--------------------------------------------------------------------------------------\n",
      "const                  0.6200      0.041     15.220      0.000       0.540       0.700\n",
      "Glucose               -0.0040      0.000    -15.968      0.000      -0.004      -0.004\n",
      "Cholesterol            0.0049      0.000     16.095      0.000       0.004       0.005\n",
      "Hemoglobin             0.0019      0.000      7.540      0.000       0.001       0.002\n",
      "Platelets             -0.0039      0.000    -17.566      0.000      -0.004      -0.003\n",
      "White Blood Cells     -0.0041      0.000    -18.960      0.000      -0.005      -0.004\n",
      "Red Blood Cells       -0.0039      0.000    -15.390      0.000      -0.004      -0.003\n",
      "Hematocrit            -0.0021      0.000     -8.447      0.000      -0.003      -0.002\n",
      "MCV                    0.0063      0.000     25.507      0.000       0.006       0.007\n",
      "MCH                    0.0026      0.000     11.804      0.000       0.002       0.003\n",
      "BMI                    0.0034      0.000     10.348      0.000       0.003       0.004\n",
      "BP                    -0.0017      0.000     -6.115      0.000      -0.002      -0.001\n",
      "Triglycerides         -0.0030      0.000    -10.436      0.000      -0.004      -0.002\n",
      "HbA1c                  0.0011      0.000      4.555      0.000       0.001       0.002\n",
      "HDL Chol              -0.0010      0.000     -4.022      0.000      -0.001      -0.001\n",
      "Heart Rate             0.0045      0.000     15.590      0.000       0.004       0.005\n",
      "C-reactive Protein     0.0009      0.000      2.579      0.010       0.000       0.002\n",
      "==============================================================================\n",
      "Omnibus:                      144.439   Durbin-Watson:                   0.945\n",
      "Prob(Omnibus):                  0.000   Jarque-Bera (JB):              151.256\n",
      "Skew:                          -0.584   Prob(JB):                     1.43e-33\n",
      "Kurtosis:                       2.579   Cond. No.                     1.55e+03\n",
      "==============================================================================\n",
      "\n",
      "Notes:\n",
      "[1] Standard Errors are heteroscedasticity robust (HC0)\n",
      "[2] The condition number is large, 1.55e+03. This might indicate that there are\n",
      "strong multicollinearity or other numerical problems.\n"
     ]
    }
   ],
   "source": [
    "#Estimar modelo con las mismas variables anteriores\n",
    "model = sm.OLS(y, X1)\n",
    "results = model.fit(cov_type='HC0')\n",
    "print(results.summary())"
   ]
  },
  {
   "cell_type": "markdown",
   "metadata": {},
   "source": [
    "6. Ejecute un modelo Poisson para explicar el numero de enfermedades que tiene una persona. Seleccione las variables dependientes a incluir en el modelo final e interprete su significado. \n",
    "\n",
    "**R**: Una vez excluidas las variables que no contribuian a la varianza total del modelo (tampoco directamente), hay ciertas variables que contribuyen de forma significativa, aunque de magnitud menor, a la variacion en el numero de enfermedades contabilizadas. Por ejemplo, un incremento en 10 percentiles en el Indice de Masa Corporal (BMI) se traduce en un incremento (sobre el promedio) de 0.14 en el numero de enfermedades."
   ]
  },
  {
   "cell_type": "code",
   "execution_count": 42,
   "metadata": {},
   "outputs": [
    {
     "name": "stdout",
     "output_type": "stream",
     "text": [
      "                 Generalized Linear Model Regression Results                  \n",
      "==============================================================================\n",
      "Dep. Variable:                Disease   No. Observations:                 2351\n",
      "Model:                            GLM   Df Residuals:                     2333\n",
      "Model Family:                 Poisson   Df Model:                           17\n",
      "Link Function:                    Log   Scale:                          1.0000\n",
      "Method:                          IRLS   Log-Likelihood:                -3133.6\n",
      "Date:                Fri, 04 Apr 2025   Deviance:                       1685.3\n",
      "Time:                        13:48:32   Pearson chi2:                 1.31e+03\n",
      "No. Iterations:                     5   Pseudo R-squ. (CS):             0.3767\n",
      "Covariance Type:            nonrobust                                         \n",
      "===========================================================================================\n",
      "                              coef    std err          z      P>|z|      [0.025      0.975]\n",
      "-------------------------------------------------------------------------------------------\n",
      "const                      -0.8870      0.150     -5.929      0.000      -1.180      -0.594\n",
      "Glucose                    -0.0069      0.001     -8.282      0.000      -0.009      -0.005\n",
      "Cholesterol                 0.0103      0.001     11.078      0.000       0.008       0.012\n",
      "Hemoglobin                  0.0114      0.001     14.270      0.000       0.010       0.013\n",
      "Platelets                  -0.0124      0.001    -19.502      0.000      -0.014      -0.011\n",
      "Hematocrit                 -0.0027      0.001     -3.806      0.000      -0.004      -0.001\n",
      "MCV                         0.0110      0.001     15.420      0.000       0.010       0.012\n",
      "MCH                         0.0085      0.001     13.236      0.000       0.007       0.010\n",
      "BMI                         0.0137      0.001     12.223      0.000       0.011       0.016\n",
      "Systolic Blood Pressure    -0.0029      0.001     -3.582      0.000      -0.004      -0.001\n",
      "BP                         -0.0067      0.001     -7.633      0.000      -0.008      -0.005\n",
      "Triglycerides              -0.0047      0.001     -5.918      0.000      -0.006      -0.003\n",
      "HbA1c                       0.0032      0.001      4.614      0.000       0.002       0.004\n",
      "LDL Chol                   -0.0088      0.001    -10.848      0.000      -0.010      -0.007\n",
      "HDL Chol                   -0.0032      0.001     -4.736      0.000      -0.005      -0.002\n",
      "Heart Rate                  0.0019      0.001      2.486      0.013       0.000       0.003\n",
      "Creatinine                  0.0052      0.001      5.936      0.000       0.003       0.007\n",
      "C-reactive Protein          0.0051      0.001      6.186      0.000       0.003       0.007\n",
      "===========================================================================================\n"
     ]
    }
   ],
   "source": [
    "y = df['Disease']\n",
    "X2=df.drop(['Disease', 'dd','White Blood Cells','Red Blood Cells','Insulin'], axis=1)\n",
    "X2 = X2*100\n",
    "X2=sm.add_constant(X2)\n",
    "poisson=sm.GLM(y,X2,family=sm.families.Poisson()).fit()\n",
    "print(poisson.summary())"
   ]
  },
  {
   "cell_type": "markdown",
   "metadata": {},
   "source": [
    "7. Determine la existencia de sobre dispersion y posible valor optimo de alpha para un modelo Binomial Negativa.\n",
    "\n",
    "**R**: El analisis indica que la sobredispersion es baja, y el test muestra un valor de alpha estadisticamente significativo, pero sugiriendo que existe subdispersion (menor varianza que la media). "
   ]
  },
  {
   "cell_type": "code",
   "execution_count": 43,
   "metadata": {},
   "outputs": [
    {
     "data": {
      "text/plain": [
       "<Axes: xlabel='plambda', ylabel='Count'>"
      ]
     },
     "execution_count": 43,
     "metadata": {},
     "output_type": "execute_result"
    },
    {
     "data": {
      "image/png": "[encoded data removed]",
      "text/plain": [
       "<Figure size 640x480 with 1 Axes>"
      ]
     },
     "metadata": {},
     "output_type": "display_data"
    }
   ],
   "source": [
    "df['plambda'] = poisson.mu\n",
    "sns.histplot(data=df, x=\"plambda\")"
   ]
  },
  {
   "cell_type": "code",
   "execution_count": 44,
   "metadata": {},
   "outputs": [
    {
     "name": "stdout",
     "output_type": "stream",
     "text": [
      "                                 OLS Regression Results                                \n",
      "=======================================================================================\n",
      "Dep. Variable:                Disease   R-squared (uncentered):                   0.381\n",
      "Model:                            OLS   Adj. R-squared (uncentered):              0.381\n",
      "Method:                 Least Squares   F-statistic:                              1449.\n",
      "Date:                Fri, 04 Apr 2025   Prob (F-statistic):                   1.97e-247\n",
      "Time:                        13:48:32   Log-Likelihood:                         -2008.7\n",
      "No. Observations:                2351   AIC:                                      4019.\n",
      "Df Residuals:                    2350   BIC:                                      4025.\n",
      "Df Model:                           1                                                  \n",
      "Covariance Type:            nonrobust                                                  \n",
      "==============================================================================\n",
      "                 coef    std err          t      P>|t|      [0.025      0.975]\n",
      "------------------------------------------------------------------------------\n",
      "x1            -0.2466      0.006    -38.068      0.000      -0.259      -0.234\n",
      "==============================================================================\n",
      "Omnibus:                      581.822   Durbin-Watson:                   1.455\n",
      "Prob(Omnibus):                  0.000   Jarque-Bera (JB):             1196.992\n",
      "Skew:                           1.450   Prob(JB):                    1.19e-260\n",
      "Kurtosis:                       4.951   Cond. No.                         1.00\n",
      "==============================================================================\n",
      "\n",
      "Notes:\n",
      "[1] R² is computed without centering (uncentered) since the model does not contain a constant.\n",
      "[2] Standard Errors assume that the covariance matrix of the errors is correctly specified.\n"
     ]
    }
   ],
   "source": [
    "aux=((y-poisson.mu)**2-poisson.mu)/poisson.mu\n",
    "auxr=sm.OLS(aux,poisson.mu).fit()\n",
    "print(auxr.summary())"
   ]
  },
  {
   "cell_type": "markdown",
   "metadata": {},
   "source": [
    "8. Usando la informacion anterior, ejecute un modelo Binomial Negativa para responder la pregunta 6. Seleccione las variables dependientes a incluir en el modelo final e interprete su significado.\n",
    "\n",
    "**R**: Los resultados del modelo Binonial Negativa, con el valor de alpha sugerido en la regresion auxiliar, entrega un peor ajuste respecto del modelo Poisson (basado en el valor de la Log-Likelihood). Sin embargo, los valores estimados son arbitrariamente similares entre ambos modelos (y su interpretacion es exactamente la misma)."
   ]
  },
  {
   "cell_type": "code",
   "execution_count": 45,
   "metadata": {},
   "outputs": [
    {
     "name": "stdout",
     "output_type": "stream",
     "text": [
      "                 Generalized Linear Model Regression Results                  \n",
      "==============================================================================\n",
      "Dep. Variable:                Disease   No. Observations:                 2351\n",
      "Model:                            GLM   Df Residuals:                     2333\n",
      "Model Family:        NegativeBinomial   Df Model:                           17\n",
      "Link Function:                    Log   Scale:                          1.0000\n",
      "Method:                          IRLS   Log-Likelihood:                -3703.3\n",
      "Date:                Fri, 04 Apr 2025   Deviance:                       1005.4\n",
      "Time:                        13:48:32   Pearson chi2:                     672.\n",
      "No. Iterations:                    10   Pseudo R-squ. (CS):             0.2058\n",
      "Covariance Type:            nonrobust                                         \n",
      "===========================================================================================\n",
      "                              coef    std err          z      P>|z|      [0.025      0.975]\n",
      "-------------------------------------------------------------------------------------------\n",
      "const                      -0.9291      0.225     -4.134      0.000      -1.370      -0.489\n",
      "Glucose                    -0.0063      0.001     -4.867      0.000      -0.009      -0.004\n",
      "Cholesterol                 0.0110      0.001      8.006      0.000       0.008       0.014\n",
      "Hemoglobin                  0.0111      0.001      9.342      0.000       0.009       0.013\n",
      "Platelets                  -0.0140      0.001    -14.102      0.000      -0.016      -0.012\n",
      "Hematocrit                 -0.0037      0.001     -3.531      0.000      -0.006      -0.002\n",
      "MCV                         0.0132      0.001     12.359      0.000       0.011       0.015\n",
      "MCH                         0.0093      0.001      9.563      0.000       0.007       0.011\n",
      "BMI                         0.0136      0.002      8.632      0.000       0.010       0.017\n",
      "Systolic Blood Pressure    -0.0029      0.001     -2.344      0.019      -0.005      -0.000\n",
      "BP                         -0.0069      0.001     -5.327      0.000      -0.009      -0.004\n",
      "Triglycerides              -0.0058      0.001     -4.881      0.000      -0.008      -0.003\n",
      "HbA1c                       0.0041      0.001      3.835      0.000       0.002       0.006\n",
      "LDL Chol                   -0.0087      0.001     -7.063      0.000      -0.011      -0.006\n",
      "HDL Chol                   -0.0044      0.001     -4.082      0.000      -0.006      -0.002\n",
      "Heart Rate                  0.0026      0.001      2.258      0.024       0.000       0.005\n",
      "Creatinine                  0.0056      0.001      4.204      0.000       0.003       0.008\n",
      "C-reactive Protein          0.0048      0.001      3.809      0.000       0.002       0.007\n",
      "===========================================================================================\n"
     ]
    }
   ],
   "source": [
    "negbin=sm.GLM(y,X2,family=sm.families.NegativeBinomial(alpha=0.8)).fit()\n",
    "print(negbin.summary())"
   ]
  },
  {
   "cell_type": "code",
   "execution_count": 46,
   "metadata": {},
   "outputs": [
    {
     "data": {
      "text/plain": [
       "<seaborn.axisgrid.FacetGrid at 0x1f4804db700>"
      ]
     },
     "execution_count": 46,
     "metadata": {},
     "output_type": "execute_result"
    },
    {
     "data": {
      "image/png": "[encoded data removed]",
      "text/plain": [
       "<Figure size 500x500 with 1 Axes>"
      ]
     },
     "metadata": {},
     "output_type": "display_data"
    }
   ],
   "source": [
    "df['ypred'] = negbin.predict(X2)\n",
    "sns.lmplot(data=df, x='Disease', y='ypred')"
   ]
  },
  {
   "cell_type": "markdown",
   "metadata": {},
   "source": [
    "9. Comente los resultados obtenidos en 6, 7 y 8. ¿Cuáles y por qué existen las diferencias entre los resultados?. En su opinión, ¿Cuál sería el más adecuado para responder la pregunta de investgación y por qué? ¿Qué variables resultaron ser robustas a la especificación?\n",
    "\n",
    "**R**: En virtud de los resultados, ambos modelos entregan resultados similares, sin embargo el modelo Poisson es mas parsimonioso y explica una mayor fraccion de la varianza. La significancia de las variables en cada modelo son arbitrariamente similares (desde una perspectiva estadistica). Todas las variables que quedan en el modelo son robustas en su asociacion con el numero de enfermedades."
   ]
  }
 ],
 "metadata": {
  "hide_input": false,
  "kernelspec": {
   "display_name": "nuevo_entorno",
   "language": "python",
   "name": "python3"
  },
  "language_info": {
   "codemirror_mode": {
    "name": "ipython",
    "version": 3
   },
   "file_extension": ".py",
   "mimetype": "text/x-python",
   "name": "python",
   "nbconvert_exporter": "python",
   "pygments_lexer": "ipython3",
   "version": "3.11.9"
  },
  "latex_envs": {
   "LaTeX_envs_menu_present": true,
   "autoclose": true,
   "autocomplete": true,
   "bibliofile": "biblio.bib",
   "cite_by": "apalike",
   "current_citInitial": 1,
   "eqLabelWithNumbers": true,
   "eqNumInitial": 1,
   "hotkeys": {
    "equation": "Ctrl-E",
    "itemize": "Ctrl-I"
   },
   "labels_anchors": false,
   "latex_user_defs": false,
   "report_style_numbering": false,
   "user_envs_cfg": false
  },
  "toc": {
   "base_numbering": 1,
   "nav_menu": {},
   "number_sections": true,
   "sideBar": true,
   "skip_h1_title": true,
   "title_cell": "Table of Contents",
   "title_sidebar": "Contents",
   "toc_cell": false,
   "toc_position": {
    "height": "calc(100% - 180px)",
    "left": "10px",
    "top": "150px",
    "width": "165px"
   },
   "toc_section_display": true,
   "toc_window_display": true
  }
 },
 "nbformat": 4,
 "nbformat_minor": 2
}
